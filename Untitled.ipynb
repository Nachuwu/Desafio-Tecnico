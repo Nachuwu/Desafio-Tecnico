{
 "cells": [
  {
   "cell_type": "code",
   "execution_count": 5,
   "id": "7e0c2377",
   "metadata": {},
   "outputs": [],
   "source": [
    "# 1. Importar librerías\n",
    "import pandas as pd"
   ]
  },
  {
   "cell_type": "code",
   "execution_count": 6,
   "id": "b9254eed",
   "metadata": {},
   "outputs": [],
   "source": [
    "# 2. Cargar datos\n",
    "df = pd.read_excel(\"noticias_test_ingeniero_IA.xlsx\")"
   ]
  },
  {
   "cell_type": "code",
   "execution_count": null,
   "id": "b9cbd04a",
   "metadata": {},
   "outputs": [],
   "source": []
  }
 ],
 "metadata": {
  "kernelspec": {
   "display_name": "Python 3 (ipykernel)",
   "language": "python",
   "name": "python3"
  },
  "language_info": {
   "codemirror_mode": {
    "name": "ipython",
    "version": 3
   },
   "file_extension": ".py",
   "mimetype": "text/x-python",
   "name": "python",
   "nbconvert_exporter": "python",
   "pygments_lexer": "ipython3",
   "version": "3.11.3"
  }
 },
 "nbformat": 4,
 "nbformat_minor": 5
}
